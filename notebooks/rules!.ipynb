{
 "cells": [
  {
   "cell_type": "code",
   "execution_count": 10,
   "id": "fc63c18e",
   "metadata": {},
   "outputs": [],
   "source": [
    "from pathlib import Path\n",
    "\n",
    "import maliput"
   ]
  },
  {
   "cell_type": "code",
   "execution_count": 13,
   "id": "c22fe2e2",
   "metadata": {},
   "outputs": [],
   "source": [
    "RESOURCE_PATH = Path(\".\") / \"..\" / \"src\" / \"maliput_malidrive\" / \"maliput_malidrive\" / \"resources\"\n",
    "XODR_PATH = RESOURCE_PATH / \"figure8_trafficlights\" / \"figure8_trafficlights.xodr\"\n",
    "YAML_PATH = RESOURCE_PATH / \"figure8_trafficlights\" / \"figure8_trafficlights.yaml\"\n",
    "assert XODR_PATH.exists()\n",
    "assert YAML_PATH.exists()"
   ]
  },
  {
   "cell_type": "code",
   "execution_count": null,
   "id": "5aa8319c",
   "metadata": {},
   "outputs": [],
   "source": [
    "# Load the network\n",
    "road_network_options = {\n",
    "    \"opendrive_file\": str(XODR_PATH.absolute()),\n",
    "    \"road_rule_book\": str(YAML_PATH.absolute())\n",
    "}\n",
    "road_network_options[\"traffic_light_book\"] = road_network_options[\"road_rule_book\"]\n",
    "road_network_options[\"phase_ring_book\"] = road_network_options[\"road_rule_book\"]\n",
    "road_network_options[\"intersection_book\"] = road_network_options[\"road_rule_book\"]\n",
    "network = maliput.plugin.create_road_network_from_plugin(\"maliput_malidrive\", road_network_options)"
   ]
  },
  {
   "cell_type": "code",
   "execution_count": 64,
   "id": "1a8c5527",
   "metadata": {},
   "outputs": [],
   "source": [
    "# A compact example of getting the direction usage rule, speed limit, and vehicle usage of a position\n",
    "def find_relevant_rules(network, p_inertial):\n",
    "    \n",
    "    # First, find the rules we care about. \n",
    "    speed_limit_hint = \"Speed Limit\"\n",
    "    direction_usage_hint = \"Direction Usage\"\n",
    "    vehicle_usage_hint = \"Vehicle Usage\"\n",
    "    speed_limit_type = None\n",
    "    vehicle_usage_type = None\n",
    "    direction_usage_type = None\n",
    "    for rule_type in network.rule_registry().DiscreteValueRuleTypes():\n",
    "        if rule_type.string().find(direction_usage_hint) >= 0:\n",
    "            direction_usage_type = rule_type\n",
    "        elif rule_type.string().find(vehicle_usage_hint) >= 0:\n",
    "            vehicle_usage_type = rule_type\n",
    "    \n",
    "    for rule_type in network.rule_registry().RangeValueRuleTypes():\n",
    "        if rule_type.string().find(speed_limit_hint) >= 0:\n",
    "            speed_limit_type = rule_type\n",
    "    \n",
    "    assert speed_limit_type is not None\n",
    "    assert direction_usage_type is not None\n",
    "    assert vehicle_usage_type is not None\n",
    "    \n",
    "    # Find the lane position for the inertial position.\n",
    "    p_road_result = network.road_geometry().ToRoadPosition(p_inertial)\n",
    "    assert p_road_result.distance < 1.0\n",
    "    p_road = p_road_result.road_position\n",
    "    \n",
    "    # Query for rules.\n",
    "    query_ranges = [\n",
    "        maliput.api.LaneSRange(\n",
    "            p_road.lane.id(),\n",
    "            maliput.api.SRange(\n",
    "                p_road.pos.s(),\n",
    "                p_road.pos.s(),\n",
    "            )\n",
    "        )\n",
    "    ]\n",
    "    relevant_rules = network.rulebook().FindRules(query_ranges, 0.01)\n",
    "    \n",
    "    # Populate the result\n",
    "    result = {\n",
    "        \"speed_limit\": None,\n",
    "        \"direction_usage\": None,\n",
    "        \"vehicle_usage\": None\n",
    "    }\n",
    "    \n",
    "    for rule_id in relevant_rules.discrete_value_rules:\n",
    "        rule = relevant_rules.discrete_value_rules[rule_id]\n",
    "        state_result = network.discrete_value_rule_state_provider().GetState(rule.id())\n",
    "        if rule.type_id() == direction_usage_type:\n",
    "            result[\"direction_usage\"] = [rule, state_result.state]\n",
    "        elif rule.type_id() == vehicle_usage_type:\n",
    "            result[\"vehicle_usage\"] = [rule, state_result.state]\n",
    "    \n",
    "    for rule_id in relevant_rules.range_value_rules:\n",
    "        rule = relevant_rules.range_value_rules[rule_id]\n",
    "        state_result = network.range_value_rule_state_provider().GetState(rule.id())\n",
    "        if rule.type_id() == speed_limit_type:\n",
    "            result[\"speed_limit\"] = [rule, state_result.state]\n",
    "    \n",
    "    print(\"States\")\n",
    "    print(\"---\")\n",
    "    print(\"DirectionUsage id: {}, State: {}, Severity: {}\".format(\n",
    "        result[\"direction_usage\"][0].id().string(),\n",
    "        result[\"direction_usage\"][1].value,\n",
    "        result[\"direction_usage\"][1].severity,\n",
    "    ))\n",
    "    print(\"VehicleUsage id: {}, State: {}, Severity: {}\".format(\n",
    "        result[\"vehicle_usage\"][0].id().string(),\n",
    "        result[\"vehicle_usage\"][1].value,\n",
    "        result[\"vehicle_usage\"][1].severity,\n",
    "    ))\n",
    "    print(\"SpeedLimit id: {}, Min/Max: {}/{}, Severity: {}\".format(\n",
    "        result[\"speed_limit\"][0].id().string(),\n",
    "        result[\"speed_limit\"][1].min,\n",
    "        result[\"speed_limit\"][1].max,\n",
    "        result[\"speed_limit\"][1].severity,\n",
    "    ))\n",
    "    \n",
    "        \n",
    "\n"
   ]
  },
  {
   "cell_type": "code",
   "execution_count": 65,
   "id": "fb56bdf6",
   "metadata": {},
   "outputs": [
    {
     "name": "stdout",
     "output_type": "stream",
     "text": [
      "States\n",
      "---\n",
      "DirectionUsage id: Direction Usage Rule Type/96_3_-1, State: WithS, Severity: 0\n",
      "VehicleUsage id: Vehicle Usage Rule Type/96_3_-1, State: NonPedestrians, Severity: 0\n",
      "SpeedLimit id: Speed Limit Rule Type/96_3_-1_1, Min/Max: 0.0/11.11111111111111, Severity: 0\n"
     ]
    }
   ],
   "source": [
    "p_inertial = maliput.api.InertialPosition(5,0,0)\n",
    "find_relevant_rules(network, p_inertial)"
   ]
  },
  {
   "cell_type": "code",
   "execution_count": 20,
   "id": "bccadff0",
   "metadata": {},
   "outputs": [],
   "source": []
  },
  {
   "cell_type": "code",
   "execution_count": null,
   "id": "a4ef59ae",
   "metadata": {},
   "outputs": [],
   "source": []
  },
  {
   "cell_type": "code",
   "execution_count": null,
   "id": "7b40b083",
   "metadata": {},
   "outputs": [],
   "source": []
  }
 ],
 "metadata": {
  "kernelspec": {
   "display_name": "Python 3 (ipykernel)",
   "language": "python",
   "name": "python3"
  },
  "language_info": {
   "codemirror_mode": {
    "name": "ipython",
    "version": 3
   },
   "file_extension": ".py",
   "mimetype": "text/x-python",
   "name": "python",
   "nbconvert_exporter": "python",
   "pygments_lexer": "ipython3",
   "version": "3.8.10"
  }
 },
 "nbformat": 4,
 "nbformat_minor": 5
}
